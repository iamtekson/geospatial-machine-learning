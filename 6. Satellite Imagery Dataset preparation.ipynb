{
 "cells": [
  {
   "cell_type": "code",
   "execution_count": 1,
   "id": "aad7530d",
   "metadata": {},
   "outputs": [],
   "source": [
    "#!pip install geotile"
   ]
  },
  {
   "cell_type": "code",
   "execution_count": 2,
   "id": "b18fda36",
   "metadata": {},
   "outputs": [
    {
     "data": {
      "text/plain": [
       "{'driver': 'GTiff',\n",
       " 'dtype': 'float32',\n",
       " 'nodata': None,\n",
       " 'width': 3246,\n",
       " 'height': 2147,\n",
       " 'count': 4,\n",
       " 'crs': CRS.from_epsg(4326),\n",
       " 'transform': Affine(8.983152841195215e-05, 0.0, 83.87794386645002,\n",
       "        0.0, -8.983152841195215e-05, 28.293517851685273)}"
      ]
     },
     "execution_count": 2,
     "metadata": {},
     "output_type": "execute_result"
    }
   ],
   "source": [
    "from geotile import GeoTile\n",
    "gt = GeoTile(r\".\\randomForest\\data\\X_train.tif\")\n",
    "gt.meta"
   ]
  },
  {
   "cell_type": "code",
   "execution_count": 4,
   "id": "991c89de",
   "metadata": {},
   "outputs": [],
   "source": [
    "gt.rasterization(input_vector=r\".\\randomForest\\data\\suplymentary data\\aoi.shp\", \n",
    "                 out_path=r'.\\randomForest\\data\\test_y_train.tif')"
   ]
  },
  {
   "cell_type": "code",
   "execution_count": 5,
   "id": "dc9166fb",
   "metadata": {},
   "outputs": [],
   "source": [
    "gt.close()"
   ]
  },
  {
   "cell_type": "code",
   "execution_count": 6,
   "id": "052fb561",
   "metadata": {},
   "outputs": [
    {
     "data": {
      "text/plain": [
       "{'driver': 'GTiff',\n",
       " 'dtype': 'uint8',\n",
       " 'nodata': None,\n",
       " 'width': 3246,\n",
       " 'height': 2147,\n",
       " 'count': 1,\n",
       " 'crs': CRS.from_epsg(4326),\n",
       " 'transform': Affine(8.983152841195215e-05, 0.0, 83.87794386645002,\n",
       "        0.0, -8.983152841195215e-05, 28.293517851685273)}"
      ]
     },
     "execution_count": 6,
     "metadata": {},
     "output_type": "execute_result"
    }
   ],
   "source": [
    "gt = GeoTile(r\".\\randomForest\\data\\test_y_train.tif\")\n",
    "gt.meta"
   ]
  },
  {
   "cell_type": "code",
   "execution_count": null,
   "id": "eba886bb",
   "metadata": {},
   "outputs": [],
   "source": []
  }
 ],
 "metadata": {
  "kernelspec": {
   "display_name": "Python 3 (ipykernel)",
   "language": "python",
   "name": "python3"
  },
  "language_info": {
   "codemirror_mode": {
    "name": "ipython",
    "version": 3
   },
   "file_extension": ".py",
   "mimetype": "text/x-python",
   "name": "python",
   "nbconvert_exporter": "python",
   "pygments_lexer": "ipython3",
   "version": "3.9.15"
  }
 },
 "nbformat": 4,
 "nbformat_minor": 5
}
