{
 "cells": [
  {
   "cell_type": "markdown",
   "id": "f924b4e2",
   "metadata": {},
   "source": [
    "# 1D Linear Regression for Weather dataset\n",
    "\n",
    "The [Shanghai AQI and Wheather dataset from 2014-2021](https://www.kaggle.com/code/kerneler/starter-shanghai-air-pollution-and-7c6ab44f-e/data) is used in this notebook.\n",
    "\n",
    "Regression Mechanics:\n",
    "\n",
    "y = ax + b\n",
    "\n",
    "where,\n",
    "\n",
    "* y = target\n",
    "* x = single feature\n",
    "* a, b = parameters (slope and intercept)"
   ]
  },
  {
   "cell_type": "code",
   "execution_count": 2,
   "id": "30428a41",
   "metadata": {},
   "outputs": [],
   "source": [
    "from sklearn.linear_model import LinearRegression\n",
    "from sklearn.model_selection import train_test_split\n",
    "\n",
    "import pandas as pd\n",
    "import numpy as np\n",
    "\n",
    "import matplotlib.pyplot as plt"
   ]
  },
  {
   "cell_type": "code",
   "execution_count": 3,
   "id": "1b08a2b8",
   "metadata": {},
   "outputs": [
    {
     "data": {
      "text/html": [
       "<div>\n",
       "<style scoped>\n",
       "    .dataframe tbody tr th:only-of-type {\n",
       "        vertical-align: middle;\n",
       "    }\n",
       "\n",
       "    .dataframe tbody tr th {\n",
       "        vertical-align: top;\n",
       "    }\n",
       "\n",
       "    .dataframe thead th {\n",
       "        text-align: right;\n",
       "    }\n",
       "</style>\n",
       "<table border=\"1\" class=\"dataframe\">\n",
       "  <thead>\n",
       "    <tr style=\"text-align: right;\">\n",
       "      <th></th>\n",
       "      <th>date</th>\n",
       "      <th>maxtempC</th>\n",
       "      <th>mintempC</th>\n",
       "      <th>totalSnow_cm</th>\n",
       "      <th>sunHour</th>\n",
       "      <th>uvIndex</th>\n",
       "      <th>moon_illumination</th>\n",
       "      <th>DewPointC</th>\n",
       "      <th>FeelsLikeC</th>\n",
       "      <th>HeatIndexC</th>\n",
       "      <th>...</th>\n",
       "      <th>cloudcover</th>\n",
       "      <th>humidity</th>\n",
       "      <th>precipMM</th>\n",
       "      <th>pressure</th>\n",
       "      <th>tempC</th>\n",
       "      <th>visibility</th>\n",
       "      <th>winddirDegree</th>\n",
       "      <th>windspeedKmph</th>\n",
       "      <th>AQI</th>\n",
       "      <th>AQI_Explained</th>\n",
       "    </tr>\n",
       "  </thead>\n",
       "  <tbody>\n",
       "    <tr>\n",
       "      <th>0</th>\n",
       "      <td>2014-01-01</td>\n",
       "      <td>15.0</td>\n",
       "      <td>5.0</td>\n",
       "      <td>0.0</td>\n",
       "      <td>8.7</td>\n",
       "      <td>4.0</td>\n",
       "      <td>0.0</td>\n",
       "      <td>-1.0</td>\n",
       "      <td>11.0</td>\n",
       "      <td>12.0</td>\n",
       "      <td>...</td>\n",
       "      <td>0.0</td>\n",
       "      <td>43.0</td>\n",
       "      <td>0.0</td>\n",
       "      <td>1021.0</td>\n",
       "      <td>15.0</td>\n",
       "      <td>10.0</td>\n",
       "      <td>242.0</td>\n",
       "      <td>12.0</td>\n",
       "      <td>319.0</td>\n",
       "      <td>Hazardous</td>\n",
       "    </tr>\n",
       "    <tr>\n",
       "      <th>1</th>\n",
       "      <td>2014-01-02</td>\n",
       "      <td>14.0</td>\n",
       "      <td>7.0</td>\n",
       "      <td>0.0</td>\n",
       "      <td>8.7</td>\n",
       "      <td>4.0</td>\n",
       "      <td>2.0</td>\n",
       "      <td>4.0</td>\n",
       "      <td>11.0</td>\n",
       "      <td>13.0</td>\n",
       "      <td>...</td>\n",
       "      <td>3.0</td>\n",
       "      <td>60.0</td>\n",
       "      <td>0.0</td>\n",
       "      <td>1019.0</td>\n",
       "      <td>14.0</td>\n",
       "      <td>10.0</td>\n",
       "      <td>141.0</td>\n",
       "      <td>14.0</td>\n",
       "      <td>352.0</td>\n",
       "      <td>Hazardous</td>\n",
       "    </tr>\n",
       "    <tr>\n",
       "      <th>2</th>\n",
       "      <td>2014-01-03</td>\n",
       "      <td>16.0</td>\n",
       "      <td>9.0</td>\n",
       "      <td>0.0</td>\n",
       "      <td>8.7</td>\n",
       "      <td>4.0</td>\n",
       "      <td>10.0</td>\n",
       "      <td>3.0</td>\n",
       "      <td>11.0</td>\n",
       "      <td>12.0</td>\n",
       "      <td>...</td>\n",
       "      <td>26.0</td>\n",
       "      <td>55.0</td>\n",
       "      <td>0.0</td>\n",
       "      <td>1017.0</td>\n",
       "      <td>16.0</td>\n",
       "      <td>10.0</td>\n",
       "      <td>295.0</td>\n",
       "      <td>14.0</td>\n",
       "      <td>338.0</td>\n",
       "      <td>Hazardous</td>\n",
       "    </tr>\n",
       "    <tr>\n",
       "      <th>3</th>\n",
       "      <td>2014-01-04</td>\n",
       "      <td>10.0</td>\n",
       "      <td>4.0</td>\n",
       "      <td>0.0</td>\n",
       "      <td>5.5</td>\n",
       "      <td>2.0</td>\n",
       "      <td>17.0</td>\n",
       "      <td>3.0</td>\n",
       "      <td>7.0</td>\n",
       "      <td>9.0</td>\n",
       "      <td>...</td>\n",
       "      <td>24.0</td>\n",
       "      <td>68.0</td>\n",
       "      <td>0.1</td>\n",
       "      <td>1022.0</td>\n",
       "      <td>10.0</td>\n",
       "      <td>10.0</td>\n",
       "      <td>169.0</td>\n",
       "      <td>14.0</td>\n",
       "      <td>355.0</td>\n",
       "      <td>Hazardous</td>\n",
       "    </tr>\n",
       "    <tr>\n",
       "      <th>4</th>\n",
       "      <td>2014-01-05</td>\n",
       "      <td>10.0</td>\n",
       "      <td>3.0</td>\n",
       "      <td>0.0</td>\n",
       "      <td>8.7</td>\n",
       "      <td>3.0</td>\n",
       "      <td>24.0</td>\n",
       "      <td>3.0</td>\n",
       "      <td>9.0</td>\n",
       "      <td>9.0</td>\n",
       "      <td>...</td>\n",
       "      <td>12.0</td>\n",
       "      <td>66.0</td>\n",
       "      <td>0.0</td>\n",
       "      <td>1024.0</td>\n",
       "      <td>10.0</td>\n",
       "      <td>10.0</td>\n",
       "      <td>117.0</td>\n",
       "      <td>6.0</td>\n",
       "      <td>343.0</td>\n",
       "      <td>Hazardous</td>\n",
       "    </tr>\n",
       "  </tbody>\n",
       "</table>\n",
       "<p>5 rows × 22 columns</p>\n",
       "</div>"
      ],
      "text/plain": [
       "         date  maxtempC  mintempC  totalSnow_cm  sunHour  uvIndex  \\\n",
       "0  2014-01-01      15.0       5.0           0.0      8.7      4.0   \n",
       "1  2014-01-02      14.0       7.0           0.0      8.7      4.0   \n",
       "2  2014-01-03      16.0       9.0           0.0      8.7      4.0   \n",
       "3  2014-01-04      10.0       4.0           0.0      5.5      2.0   \n",
       "4  2014-01-05      10.0       3.0           0.0      8.7      3.0   \n",
       "\n",
       "   moon_illumination  DewPointC  FeelsLikeC  HeatIndexC  ...  cloudcover  \\\n",
       "0                0.0       -1.0        11.0        12.0  ...         0.0   \n",
       "1                2.0        4.0        11.0        13.0  ...         3.0   \n",
       "2               10.0        3.0        11.0        12.0  ...        26.0   \n",
       "3               17.0        3.0         7.0         9.0  ...        24.0   \n",
       "4               24.0        3.0         9.0         9.0  ...        12.0   \n",
       "\n",
       "   humidity  precipMM  pressure  tempC  visibility  winddirDegree  \\\n",
       "0      43.0       0.0    1021.0   15.0        10.0          242.0   \n",
       "1      60.0       0.0    1019.0   14.0        10.0          141.0   \n",
       "2      55.0       0.0    1017.0   16.0        10.0          295.0   \n",
       "3      68.0       0.1    1022.0   10.0        10.0          169.0   \n",
       "4      66.0       0.0    1024.0   10.0        10.0          117.0   \n",
       "\n",
       "   windspeedKmph    AQI  AQI_Explained  \n",
       "0           12.0  319.0      Hazardous  \n",
       "1           14.0  352.0      Hazardous  \n",
       "2           14.0  338.0      Hazardous  \n",
       "3           14.0  355.0      Hazardous  \n",
       "4            6.0  343.0      Hazardous  \n",
       "\n",
       "[5 rows x 22 columns]"
      ]
     },
     "execution_count": 3,
     "metadata": {},
     "output_type": "execute_result"
    }
   ],
   "source": [
    "df = pd.read_csv(\"../data/Shanghai AQI and Wheather 2014-2021.csv\")\n",
    "df.head()"
   ]
  },
  {
   "cell_type": "code",
   "execution_count": 20,
   "id": "8f5cd253",
   "metadata": {},
   "outputs": [
    {
     "data": {
      "text/plain": [
       "Index(['date', 'maxtempC', 'mintempC', 'totalSnow_cm', 'sunHour', 'uvIndex',\n",
       "       'moon_illumination', 'DewPointC', 'FeelsLikeC', 'HeatIndexC',\n",
       "       'WindChillC', 'WindGustKmph', 'cloudcover', 'humidity', 'precipMM',\n",
       "       'pressure', 'tempC', 'visibility', 'winddirDegree', 'windspeedKmph',\n",
       "       'AQI', 'AQI_Explained'],\n",
       "      dtype='object')"
      ]
     },
     "execution_count": 20,
     "metadata": {},
     "output_type": "execute_result"
    }
   ],
   "source": [
    "df.columns"
   ]
  },
  {
   "cell_type": "code",
   "execution_count": 5,
   "id": "84dca3ce",
   "metadata": {},
   "outputs": [
    {
     "data": {
      "text/plain": [
       "array(['Hazardous', 'Very unhealthy', 'Unhealthy',\n",
       "       'Unhealthy for sensitive groups', 'Moderate'], dtype=object)"
      ]
     },
     "execution_count": 5,
     "metadata": {},
     "output_type": "execute_result"
    }
   ],
   "source": [
    "df.AQI_Explained.unique()"
   ]
  },
  {
   "cell_type": "code",
   "execution_count": 12,
   "id": "0d18e87a",
   "metadata": {},
   "outputs": [
    {
     "name": "stdout",
     "output_type": "stream",
     "text": [
      "Accuracy: 0.11562741624185147\n"
     ]
    }
   ],
   "source": [
    "# add date in index\n",
    "df.index = df.date\n",
    "\n",
    "# Regression equation between Heat Index and Air Quality Index\n",
    "X = df['HeatIndexC'].values.reshape(-1,1)\n",
    "y = df['AQI'].values.reshape(-1,1)\n",
    "\n",
    "# Train and test dataset (80% training dataset and 20% test dataset)\n",
    "X_train, X_test, y_train, y_test = train_test_split(X, y, test_size=0.2, random_state=42)\n",
    "\n",
    "# Linear regression model from sklearn\n",
    "lr = LinearRegression()\n",
    "lr.fit(X_train, y_train)\n",
    "score = lr.score(X_test, y_test)\n",
    "print('Accuracy: {}'.format(score))"
   ]
  },
  {
   "cell_type": "markdown",
   "id": "52241010",
   "metadata": {},
   "source": [
    "## Regression metrices\n",
    "\n",
    "1. RMSE\n",
    "2. R-Squared"
   ]
  },
  {
   "cell_type": "code",
   "execution_count": 14,
   "id": "322354fe",
   "metadata": {},
   "outputs": [
    {
     "name": "stdout",
     "output_type": "stream",
     "text": [
      "R square:  0.11562741624185147 \n",
      " RMSE:  71.38836611636859\n"
     ]
    }
   ],
   "source": [
    "from sklearn.metrics import r2_score, mean_squared_error\n",
    "\n",
    "y_pred = lr.predict(X_test)\n",
    "\n",
    "r2 = r2_score(y_test, y_pred)\n",
    "mse = mean_squared_error(y_test, y_pred, squared=False)\n",
    "\n",
    "print(\"R square: \", r2, \"\\n RMSE: \", mse)"
   ]
  },
  {
   "cell_type": "markdown",
   "id": "961a8533",
   "metadata": {},
   "source": [
    "### Plot the regression line with test dataset"
   ]
  },
  {
   "cell_type": "code",
   "execution_count": 90,
   "id": "a9ed9518",
   "metadata": {},
   "outputs": [
    {
     "data": {
      "text/plain": [
       "Text(0, 0.5, 'Air Quality Index')"
      ]
     },
     "execution_count": 90,
     "metadata": {},
     "output_type": "execute_result"
    },
    {
     "data": {
      "image/png": "[encoded data removed]",
      "text/plain": [
       "<Figure size 640x480 with 1 Axes>"
      ]
     },
     "metadata": {},
     "output_type": "display_data"
    }
   ],
   "source": [
    "pred = lr.predict(X_test)\n",
    "plt.scatter(X_test, y_test)\n",
    "plt.plot(X_test, pred, color='red')\n",
    "plt.xlabel(\"Heat Index (C)\")\n",
    "plt.ylabel(\"Air Quality Index\")"
   ]
  },
  {
   "cell_type": "markdown",
   "id": "a3c0692d",
   "metadata": {},
   "source": [
    "### Regression Equation"
   ]
  },
  {
   "cell_type": "code",
   "execution_count": 71,
   "id": "51e4172b",
   "metadata": {},
   "outputs": [
    {
     "name": "stdout",
     "output_type": "stream",
     "text": [
      "Regression Equation: y = -2.2710211521502797x + 282.7601083061348\n"
     ]
    }
   ],
   "source": [
    "a = lr.coef_\n",
    "b = lr.intercept_\n",
    "\n",
    "print(f'Regression Equation: y = {a[0][0]}x + {b[0]}')"
   ]
  },
  {
   "cell_type": "markdown",
   "id": "5b4c79bd",
   "metadata": {},
   "source": [
    "# Multi-dimensional linear regression\n",
    "\n",
    "y = a1x1 + a2x1 + a3x3 + ....... + anxn + b\n",
    "\n",
    "Where,\n",
    "\n",
    "* y = target\n",
    "* x1, x2, x3 ... = features\n",
    "* a1, a2, a3 ..., b = parameters (slope and coefficients)\n",
    "\n",
    "**R square:** It quantifies the variance in target values (value ranges from 0 to 1)"
   ]
  },
  {
   "cell_type": "code",
   "execution_count": 17,
   "id": "74ec6373",
   "metadata": {},
   "outputs": [
    {
     "name": "stdout",
     "output_type": "stream",
     "text": [
      "Accuracy: 0.23105095402329812\n"
     ]
    }
   ],
   "source": [
    "# add date in index\n",
    "df.index = df.date\n",
    "\n",
    "# Regression equation between Heat Index and Air Quality Index\n",
    "X = df.drop(columns=['AQI', 'AQI_Explained', 'date'])\n",
    "y = df['AQI']\n",
    "\n",
    "# Train and test dataset (80% training dataset and 20% test dataset)\n",
    "X_train, X_test, y_train, y_test = train_test_split(X, y, test_size=0.2, random_state=5)\n",
    "\n",
    "# Linear regression model from sklearn\n",
    "lr = LinearRegression()\n",
    "lr.fit(X_train, y_train)\n",
    "score = lr.score(X_test, y_test)\n",
    "print('Accuracy: {}'.format(score))"
   ]
  },
  {
   "cell_type": "markdown",
   "id": "e310b908",
   "metadata": {},
   "source": [
    "# Cross validation\n",
    "\n",
    "* To test the ability of ML model to predict new data\n",
    "* Used to give the insight on how model generalize to an independent dataset"
   ]
  },
  {
   "cell_type": "code",
   "execution_count": 18,
   "id": "653da324",
   "metadata": {},
   "outputs": [
    {
     "data": {
      "text/plain": [
       "array([0.27003867, 0.27694103, 0.27623708, 0.23331048, 0.25832416])"
      ]
     },
     "execution_count": 18,
     "metadata": {},
     "output_type": "execute_result"
    }
   ],
   "source": [
    "from sklearn.model_selection import cross_val_score, KFold\n",
    "\n",
    "kf = KFold(n_splits=5, shuffle=True, random_state=42)\n",
    "lr = LinearRegression()\n",
    "cv_results = cross_val_score(lr, X, y, cv=kf)\n",
    "cv_results"
   ]
  },
  {
   "cell_type": "code",
   "execution_count": 19,
   "id": "20169636",
   "metadata": {},
   "outputs": [
    {
     "name": "stdout",
     "output_type": "stream",
     "text": [
      "0.2629702822868043\n",
      "0.016263100556890165\n",
      "[0.23581185 0.27687063]\n"
     ]
    }
   ],
   "source": [
    "# Print the mean\n",
    "print(np.mean(cv_results))\n",
    "\n",
    "# Print the standard deviation\n",
    "print(np.std(cv_results))\n",
    "\n",
    "# Print the 95% confidence interval\n",
    "print(np.quantile(cv_results, [0.025, 0.975]))"
   ]
  },
  {
   "attachments": {},
   "cell_type": "markdown",
   "id": "203da00b",
   "metadata": {},
   "source": [
    "# Regularization\n",
    "\n",
    "Lets say, the regression equation as below,\n",
    "\n",
    "Y ≈ β0 + β1X1 + β2X2 + …+ βpXp\n",
    "\n",
    "The loss function also know as residual sum of square or RSS equation for above regression equation will be,\n",
    "\n",
    "![Regression equation loss function](./img/loss_reg_eqation.webp)\n",
    "\n",
    "Used to avoid overfitting. There are two types of regularization in machine learning.\n",
    "\n",
    "### 1. Ridge Regression\n",
    "\n",
    "![Ridge equation](./img/redge_equation.webp)\n",
    "\n",
    "### 2. Lasso Regression\n",
    "\n",
    "It can select only the important features. It srinks the coefficient of less important features to zero. The Lasso regression function also can be used for feature selection.\n",
    "\n",
    "![Lasso equation](./img/lasso_equation.webp)\n",
    "\n"
   ]
  },
  {
   "cell_type": "code",
   "execution_count": 97,
   "id": "57a2ed13",
   "metadata": {},
   "outputs": [
    {
     "name": "stdout",
     "output_type": "stream",
     "text": [
      "[0.27004022255785987, 0.2700522089339993, 0.2701161013918356, 0.27036272854275767, 0.2691508866626462, 0.24948236970406235]\n"
     ]
    }
   ],
   "source": [
    "# Import Ridge\n",
    "from sklearn.linear_model import Ridge\n",
    "alphas = [0.1, 1.0, 10.0, 100.0, 1000.0, 10000.0]\n",
    "ridge_scores = []\n",
    "for alpha in alphas:\n",
    "\n",
    "    # Create a Ridge regression model\n",
    "    ridge = Ridge(alpha=alpha)\n",
    "  \n",
    "    # Fit the data\n",
    "    ridge.fit(X_train, y_train)\n",
    "\n",
    "    # Obtain R-squared\n",
    "    score = ridge.score(X_test, y_test)\n",
    "    ridge_scores.append(score)\n",
    "    \n",
    "print(ridge_scores)"
   ]
  },
  {
   "cell_type": "markdown",
   "id": "628d5227",
   "metadata": {},
   "source": [
    "# Feature selection"
   ]
  },
  {
   "cell_type": "code",
   "execution_count": 98,
   "id": "444420ef",
   "metadata": {},
   "outputs": [
    {
     "name": "stdout",
     "output_type": "stream",
     "text": [
      "[ 1.72070395e-03 -6.45897355e+00 -0.00000000e+00 -7.18568907e-01\n",
      " -6.54194868e+00  1.61039024e-02 -1.02456789e+00 -3.04493127e+00\n",
      " -2.54955399e-01  3.66725093e+00  4.66289981e+00 -4.70598672e-01\n",
      "  0.00000000e+00 -5.70905052e-01 -2.91752262e+00  3.15618391e+00\n",
      "  9.77177838e-01  1.12203175e-01 -9.87252562e+00]\n",
      "Index(['maxtempC', 'mintempC', 'totalSnow_cm', 'sunHour', 'uvIndex',\n",
      "       'moon_illumination', 'DewPointC', 'FeelsLikeC', 'HeatIndexC',\n",
      "       'WindChillC', 'WindGustKmph', 'cloudcover', 'humidity', 'precipMM',\n",
      "       'pressure', 'tempC', 'visibility', 'winddirDegree', 'windspeedKmph'],\n",
      "      dtype='object')\n"
     ]
    },
    {
     "data": {
      "image/png": "[encoded data removed]",
      "text/plain": [
       "<Figure size 640x480 with 1 Axes>"
      ]
     },
     "metadata": {},
     "output_type": "display_data"
    }
   ],
   "source": [
    "# Import Lasso\n",
    "from sklearn.linear_model import Lasso\n",
    "\n",
    "columns = df.drop(columns=['AQI', \"AQI_Explained\", 'date']).columns\n",
    "\n",
    "# Instantiate a lasso regression model\n",
    "lasso = Lasso(alpha=0.3)\n",
    "\n",
    "# Fit the model to the data\n",
    "lasso.fit(X, y)\n",
    "\n",
    "# Compute and print the coefficients\n",
    "lasso_coef = lasso.coef_\n",
    "\n",
    "print(lasso_coef)\n",
    "print(columns)\n",
    "plt.bar(columns, lasso_coef)\n",
    "plt.xticks(rotation=45)\n",
    "plt.show()"
   ]
  }
 ],
 "metadata": {
  "kernelspec": {
   "display_name": "Python 3 (ipykernel)",
   "language": "python",
   "name": "python3"
  },
  "language_info": {
   "codemirror_mode": {
    "name": "ipython",
    "version": 3
   },
   "file_extension": ".py",
   "mimetype": "text/x-python",
   "name": "python",
   "nbconvert_exporter": "python",
   "pygments_lexer": "ipython3",
   "version": "3.9.15"
  }
 },
 "nbformat": 4,
 "nbformat_minor": 5
}
